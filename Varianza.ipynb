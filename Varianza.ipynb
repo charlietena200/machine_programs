{
  "nbformat": 4,
  "nbformat_minor": 0,
  "metadata": {
    "colab": {
      "provenance": [],
      "authorship_tag": "ABX9TyOV4NDVjJLbs0DX8o1G1aj7",
      "include_colab_link": true
    },
    "kernelspec": {
      "name": "python3",
      "display_name": "Python 3"
    },
    "language_info": {
      "name": "python"
    }
  },
  "cells": [
    {
      "cell_type": "markdown",
      "metadata": {
        "id": "view-in-github",
        "colab_type": "text"
      },
      "source": [
        "<a href=\"https://colab.research.google.com/github/charlietena200/machine_programs/blob/main/Varianza.ipynb\" target=\"_parent\"><img src=\"https://colab.research.google.com/assets/colab-badge.svg\" alt=\"Open In Colab\"/></a>"
      ]
    },
    {
      "cell_type": "code",
      "execution_count": 27,
      "metadata": {
        "colab": {
          "base_uri": "https://localhost:8080/"
        },
        "id": "MFtwQEeM7uda",
        "outputId": "e45ccb22-38fc-4cc5-eb6c-7b385c8bba96"
      },
      "outputs": [
        {
          "output_type": "stream",
          "name": "stdout",
          "text": [
            "La varianza es 1.0\n",
            "La diferencia media es 1.0\n"
          ]
        }
      ],
      "source": [
        "#Código para calcular la varianza\n",
        "import math\n",
        "from math import sqrt\n",
        "data=[1,3]\n",
        "\n",
        "def varianza(datos):\n",
        "\n",
        "  promedio=sum(datos)/len(datos)\n",
        "\n",
        "  suma=0\n",
        "\n",
        "  for x in range(len(datos)):\n",
        "    suma+=(datos[x]-promedio)**2\n",
        "\n",
        "  return suma/len(datos)\n",
        "\n",
        "var=varianza(data)\n",
        "print(f\"La varianza es {var}\")\n",
        "print(f\"La diferencia media es {sqrt(var)}\")"
      ]
    }
  ]
}